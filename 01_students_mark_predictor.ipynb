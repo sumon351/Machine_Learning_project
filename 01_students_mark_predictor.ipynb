{
 "cells": [
  {
   "cell_type": "markdown",
   "metadata": {
    "colab_type": "text",
    "id": "zThb1CjtYLDh"
   },
   "source": [
    "# Student Marks Prediction"
   ]
  },
  {
   "cell_type": "code",
   "execution_count": 1,
   "metadata": {
    "colab": {},
    "colab_type": "code",
    "id": "WS0puKznYrbb"
   },
   "outputs": [],
   "source": [
    "#Import libraries\n",
    "import numpy as np\n",
    "import pandas as pd\n",
    "import matplotlib.pyplot as plt"
   ]
  },
  {
   "cell_type": "markdown",
   "metadata": {
    "colab_type": "text",
    "id": "mmgkP6sKZfhD"
   },
   "source": [
    "# Load Dataset"
   ]
  },
  {
   "cell_type": "code",
   "execution_count": 2,
   "metadata": {
    "colab": {},
    "colab_type": "code",
    "id": "-fAN8yoEZi3B"
   },
   "outputs": [],
   "source": [
    "df  = pd.read_csv('student_marks.csv')"
   ]
  },
  {
   "cell_type": "code",
   "execution_count": 3,
   "metadata": {
    "colab": {
     "base_uri": "https://localhost:8080/",
     "height": 198
    },
    "colab_type": "code",
    "executionInfo": {
     "elapsed": 3245,
     "status": "ok",
     "timestamp": 1591639758937,
     "user": {
      "displayName": "Indian AI Production",
      "photoUrl": "https://lh3.googleusercontent.com/a-/AOh14Gj3ZvzF_5wYrhSUbb_fejZZI0SOJB4k_MnwL_ZT=s64",
      "userId": "18422374217311601843"
     },
     "user_tz": -330
    },
    "id": "zouaV_GmaGmq",
    "outputId": "8cd48c0b-8ea4-4524-a2c2-1dc7371e6bb8"
   },
   "outputs": [
    {
     "data": {
      "text/html": [
       "<div>\n",
       "<style scoped>\n",
       "    .dataframe tbody tr th:only-of-type {\n",
       "        vertical-align: middle;\n",
       "    }\n",
       "\n",
       "    .dataframe tbody tr th {\n",
       "        vertical-align: top;\n",
       "    }\n",
       "\n",
       "    .dataframe thead th {\n",
       "        text-align: right;\n",
       "    }\n",
       "</style>\n",
       "<table border=\"1\" class=\"dataframe\">\n",
       "  <thead>\n",
       "    <tr style=\"text-align: right;\">\n",
       "      <th></th>\n",
       "      <th>study_hours</th>\n",
       "      <th>student_marks</th>\n",
       "    </tr>\n",
       "  </thead>\n",
       "  <tbody>\n",
       "    <tr>\n",
       "      <th>0</th>\n",
       "      <td>6.83</td>\n",
       "      <td>78.50</td>\n",
       "    </tr>\n",
       "    <tr>\n",
       "      <th>1</th>\n",
       "      <td>6.56</td>\n",
       "      <td>76.74</td>\n",
       "    </tr>\n",
       "    <tr>\n",
       "      <th>2</th>\n",
       "      <td>NaN</td>\n",
       "      <td>78.68</td>\n",
       "    </tr>\n",
       "    <tr>\n",
       "      <th>3</th>\n",
       "      <td>5.67</td>\n",
       "      <td>71.82</td>\n",
       "    </tr>\n",
       "    <tr>\n",
       "      <th>4</th>\n",
       "      <td>8.67</td>\n",
       "      <td>84.19</td>\n",
       "    </tr>\n",
       "    <tr>\n",
       "      <th>...</th>\n",
       "      <td>...</td>\n",
       "      <td>...</td>\n",
       "    </tr>\n",
       "    <tr>\n",
       "      <th>195</th>\n",
       "      <td>7.53</td>\n",
       "      <td>81.67</td>\n",
       "    </tr>\n",
       "    <tr>\n",
       "      <th>196</th>\n",
       "      <td>8.56</td>\n",
       "      <td>84.68</td>\n",
       "    </tr>\n",
       "    <tr>\n",
       "      <th>197</th>\n",
       "      <td>8.94</td>\n",
       "      <td>86.75</td>\n",
       "    </tr>\n",
       "    <tr>\n",
       "      <th>198</th>\n",
       "      <td>6.60</td>\n",
       "      <td>78.05</td>\n",
       "    </tr>\n",
       "    <tr>\n",
       "      <th>199</th>\n",
       "      <td>8.35</td>\n",
       "      <td>83.50</td>\n",
       "    </tr>\n",
       "  </tbody>\n",
       "</table>\n",
       "<p>200 rows × 2 columns</p>\n",
       "</div>"
      ],
      "text/plain": [
       "     study_hours  student_marks\n",
       "0           6.83          78.50\n",
       "1           6.56          76.74\n",
       "2            NaN          78.68\n",
       "3           5.67          71.82\n",
       "4           8.67          84.19\n",
       "..           ...            ...\n",
       "195         7.53          81.67\n",
       "196         8.56          84.68\n",
       "197         8.94          86.75\n",
       "198         6.60          78.05\n",
       "199         8.35          83.50\n",
       "\n",
       "[200 rows x 2 columns]"
      ]
     },
     "execution_count": 3,
     "metadata": {},
     "output_type": "execute_result"
    }
   ],
   "source": [
    "df"
   ]
  },
  {
   "cell_type": "code",
   "execution_count": 4,
   "metadata": {
    "colab": {
     "base_uri": "https://localhost:8080/",
     "height": 35
    },
    "colab_type": "code",
    "executionInfo": {
     "elapsed": 3185,
     "status": "ok",
     "timestamp": 1591639758942,
     "user": {
      "displayName": "Indian AI Production",
      "photoUrl": "https://lh3.googleusercontent.com/a-/AOh14Gj3ZvzF_5wYrhSUbb_fejZZI0SOJB4k_MnwL_ZT=s64",
      "userId": "18422374217311601843"
     },
     "user_tz": -330
    },
    "id": "iPHxrrTyar65",
    "outputId": "cc445546-335e-43e1-8ef7-8ad5e14cf26e"
   },
   "outputs": [
    {
     "data": {
      "text/plain": [
       "(200, 2)"
      ]
     },
     "execution_count": 4,
     "metadata": {},
     "output_type": "execute_result"
    }
   ],
   "source": [
    "df.shape"
   ]
  },
  {
   "cell_type": "markdown",
   "metadata": {
    "colab_type": "text",
    "id": "_oFCu0V9bJUk"
   },
   "source": [
    "## Discover and visualize the data to gain insights"
   ]
  },
  {
   "cell_type": "code",
   "execution_count": 5,
   "metadata": {
    "colab": {
     "base_uri": "https://localhost:8080/",
     "height": 181
    },
    "colab_type": "code",
    "executionInfo": {
     "elapsed": 3162,
     "status": "ok",
     "timestamp": 1591639758945,
     "user": {
      "displayName": "Indian AI Production",
      "photoUrl": "https://lh3.googleusercontent.com/a-/AOh14Gj3ZvzF_5wYrhSUbb_fejZZI0SOJB4k_MnwL_ZT=s64",
      "userId": "18422374217311601843"
     },
     "user_tz": -330
    },
    "id": "O5pGpQIJazNy",
    "outputId": "8b4c7c4d-681b-4f58-c66a-0bf389806fe7"
   },
   "outputs": [
    {
     "name": "stdout",
     "output_type": "stream",
     "text": [
      "<class 'pandas.core.frame.DataFrame'>\n",
      "RangeIndex: 200 entries, 0 to 199\n",
      "Data columns (total 2 columns):\n",
      " #   Column         Non-Null Count  Dtype  \n",
      "---  ------         --------------  -----  \n",
      " 0   study_hours    195 non-null    float64\n",
      " 1   student_marks  200 non-null    float64\n",
      "dtypes: float64(2)\n",
      "memory usage: 3.3 KB\n"
     ]
    }
   ],
   "source": [
    "df.info()"
   ]
  },
  {
   "cell_type": "code",
   "execution_count": 6,
   "metadata": {
    "colab": {
     "base_uri": "https://localhost:8080/",
     "height": 288
    },
    "colab_type": "code",
    "executionInfo": {
     "elapsed": 3139,
     "status": "ok",
     "timestamp": 1591639758947,
     "user": {
      "displayName": "Indian AI Production",
      "photoUrl": "https://lh3.googleusercontent.com/a-/AOh14Gj3ZvzF_5wYrhSUbb_fejZZI0SOJB4k_MnwL_ZT=s64",
      "userId": "18422374217311601843"
     },
     "user_tz": -330
    },
    "id": "JhpHlRDMbXEm",
    "outputId": "7fcadbc3-7c78-48bd-b7fa-101460d662df"
   },
   "outputs": [
    {
     "data": {
      "text/html": [
       "<div>\n",
       "<style scoped>\n",
       "    .dataframe tbody tr th:only-of-type {\n",
       "        vertical-align: middle;\n",
       "    }\n",
       "\n",
       "    .dataframe tbody tr th {\n",
       "        vertical-align: top;\n",
       "    }\n",
       "\n",
       "    .dataframe thead th {\n",
       "        text-align: right;\n",
       "    }\n",
       "</style>\n",
       "<table border=\"1\" class=\"dataframe\">\n",
       "  <thead>\n",
       "    <tr style=\"text-align: right;\">\n",
       "      <th></th>\n",
       "      <th>study_hours</th>\n",
       "      <th>student_marks</th>\n",
       "    </tr>\n",
       "  </thead>\n",
       "  <tbody>\n",
       "    <tr>\n",
       "      <th>count</th>\n",
       "      <td>195.000000</td>\n",
       "      <td>200.00000</td>\n",
       "    </tr>\n",
       "    <tr>\n",
       "      <th>mean</th>\n",
       "      <td>6.995949</td>\n",
       "      <td>77.93375</td>\n",
       "    </tr>\n",
       "    <tr>\n",
       "      <th>std</th>\n",
       "      <td>1.253060</td>\n",
       "      <td>4.92570</td>\n",
       "    </tr>\n",
       "    <tr>\n",
       "      <th>min</th>\n",
       "      <td>5.010000</td>\n",
       "      <td>68.57000</td>\n",
       "    </tr>\n",
       "    <tr>\n",
       "      <th>25%</th>\n",
       "      <td>5.775000</td>\n",
       "      <td>73.38500</td>\n",
       "    </tr>\n",
       "    <tr>\n",
       "      <th>50%</th>\n",
       "      <td>7.120000</td>\n",
       "      <td>77.71000</td>\n",
       "    </tr>\n",
       "    <tr>\n",
       "      <th>75%</th>\n",
       "      <td>8.085000</td>\n",
       "      <td>82.32000</td>\n",
       "    </tr>\n",
       "    <tr>\n",
       "      <th>max</th>\n",
       "      <td>8.990000</td>\n",
       "      <td>86.99000</td>\n",
       "    </tr>\n",
       "  </tbody>\n",
       "</table>\n",
       "</div>"
      ],
      "text/plain": [
       "       study_hours  student_marks\n",
       "count   195.000000      200.00000\n",
       "mean      6.995949       77.93375\n",
       "std       1.253060        4.92570\n",
       "min       5.010000       68.57000\n",
       "25%       5.775000       73.38500\n",
       "50%       7.120000       77.71000\n",
       "75%       8.085000       82.32000\n",
       "max       8.990000       86.99000"
      ]
     },
     "execution_count": 6,
     "metadata": {},
     "output_type": "execute_result"
    }
   ],
   "source": [
    "df.describe()"
   ]
  },
  {
   "cell_type": "code",
   "execution_count": 7,
   "metadata": {
    "colab": {
     "base_uri": "https://localhost:8080/",
     "height": 295
    },
    "colab_type": "code",
    "executionInfo": {
     "elapsed": 4020,
     "status": "ok",
     "timestamp": 1591639759876,
     "user": {
      "displayName": "Indian AI Production",
      "photoUrl": "https://lh3.googleusercontent.com/a-/AOh14Gj3ZvzF_5wYrhSUbb_fejZZI0SOJB4k_MnwL_ZT=s64",
      "userId": "18422374217311601843"
     },
     "user_tz": -330
    },
    "id": "BnPeWCuzb3p4",
    "outputId": "066d209c-354c-43b0-c2be-4db488318bde"
   },
   "outputs": [
    {
     "data": {
      "text/plain": [
       "Text(0.5, 1.0, 'Scatter Plot of Students Study Hours vs Students marks')"
      ]
     },
     "execution_count": 7,
     "metadata": {},
     "output_type": "execute_result"
    },
    {
     "data": {
      "image/png": "[encoded data removed]",
      "text/plain": [
       "<Figure size 640x480 with 1 Axes>"
      ]
     },
     "metadata": {},
     "output_type": "display_data"
    }
   ],
   "source": [
    "plt.scatter(df.study_hours, df.student_marks)\n",
    "plt.xlabel(\"Students Study Hours\")\n",
    "plt.ylabel(\"Students marks\")\n",
    "plt.title(\"Scatter Plot of Students Study Hours vs Students marks\")"
   ]
  },
  {
   "cell_type": "markdown",
   "metadata": {
    "colab_type": "text",
    "id": "nIKXoXc2dO_t"
   },
   "source": [
    "## Prepare the data for Machine Learning algorithms "
   ]
  },
  {
   "cell_type": "code",
   "execution_count": null,
   "metadata": {
    "colab": {},
    "colab_type": "code",
    "id": "btJR8iIUc5Yk"
   },
   "outputs": [],
   "source": [
    "# Data Cleaning"
   ]
  },
  {
   "cell_type": "code",
   "execution_count": 8,
   "metadata": {
    "colab": {
     "base_uri": "https://localhost:8080/",
     "height": 72
    },
    "colab_type": "code",
    "executionInfo": {
     "elapsed": 3979,
     "status": "ok",
     "timestamp": 1591639759879,
     "user": {
      "displayName": "Indian AI Production",
      "photoUrl": "https://lh3.googleusercontent.com/a-/AOh14Gj3ZvzF_5wYrhSUbb_fejZZI0SOJB4k_MnwL_ZT=s64",
      "userId": "18422374217311601843"
     },
     "user_tz": -330
    },
    "id": "JqGacr14dbHv",
    "outputId": "9fed684b-21a5-402a-ba99-4448609e5f1d"
   },
   "outputs": [
    {
     "data": {
      "text/plain": [
       "study_hours      5\n",
       "student_marks    0\n",
       "dtype: int64"
      ]
     },
     "execution_count": 8,
     "metadata": {},
     "output_type": "execute_result"
    }
   ],
   "source": [
    "df.isnull().sum()"
   ]
  },
  {
   "cell_type": "code",
   "execution_count": 9,
   "metadata": {
    "colab": {
     "base_uri": "https://localhost:8080/",
     "height": 72
    },
    "colab_type": "code",
    "executionInfo": {
     "elapsed": 3941,
     "status": "ok",
     "timestamp": 1591639759881,
     "user": {
      "displayName": "Indian AI Production",
      "photoUrl": "https://lh3.googleusercontent.com/a-/AOh14Gj3ZvzF_5wYrhSUbb_fejZZI0SOJB4k_MnwL_ZT=s64",
      "userId": "18422374217311601843"
     },
     "user_tz": -330
    },
    "id": "XVXS0f4ldiPS",
    "outputId": "8203bd5c-127b-4339-cdc0-58723378a8df"
   },
   "outputs": [
    {
     "data": {
      "text/plain": [
       "6.9959487179487185"
      ]
     },
     "execution_count": 9,
     "metadata": {},
     "output_type": "execute_result"
    }
   ],
   "source": [
    "df.study_hours.mean()"
   ]
  },
  {
   "cell_type": "code",
   "execution_count": 10,
   "metadata": {
    "colab": {},
    "colab_type": "code",
    "id": "76MxlNMEd9zI"
   },
   "outputs": [],
   "source": [
    "df2 = df.fillna(df.study_hours.mean())"
   ]
  },
  {
   "cell_type": "code",
   "execution_count": 11,
   "metadata": {
    "colab": {
     "base_uri": "https://localhost:8080/",
     "height": 72
    },
    "colab_type": "code",
    "executionInfo": {
     "elapsed": 3895,
     "status": "ok",
     "timestamp": 1591639759885,
     "user": {
      "displayName": "Indian AI Production",
      "photoUrl": "https://lh3.googleusercontent.com/a-/AOh14Gj3ZvzF_5wYrhSUbb_fejZZI0SOJB4k_MnwL_ZT=s64",
      "userId": "18422374217311601843"
     },
     "user_tz": -330
    },
    "id": "bcEM6aHpeQk7",
    "outputId": "9985e23d-7c3a-4517-b5c6-ef16fed3900d"
   },
   "outputs": [
    {
     "data": {
      "text/plain": [
       "study_hours      0\n",
       "student_marks    0\n",
       "dtype: int64"
      ]
     },
     "execution_count": 11,
     "metadata": {},
     "output_type": "execute_result"
    }
   ],
   "source": [
    "df2.isnull().sum()"
   ]
  },
  {
   "cell_type": "code",
   "execution_count": null,
   "metadata": {
    "colab": {},
    "colab_type": "code",
    "id": "4qvC8mY-eZGQ"
   },
   "outputs": [],
   "source": [
    "# split dataset"
   ]
  },
  {
   "cell_type": "code",
   "execution_count": 12,
   "metadata": {
    "colab": {
     "base_uri": "https://localhost:8080/",
     "height": 54
    },
    "colab_type": "code",
    "executionInfo": {
     "elapsed": 3744,
     "status": "ok",
     "timestamp": 1591639759889,
     "user": {
      "displayName": "Indian AI Production",
      "photoUrl": "https://lh3.googleusercontent.com/a-/AOh14Gj3ZvzF_5wYrhSUbb_fejZZI0SOJB4k_MnwL_ZT=s64",
      "userId": "18422374217311601843"
     },
     "user_tz": -330
    },
    "id": "-hXEvqB_ervH",
    "outputId": "fc2dad61-9f3e-4284-bfc4-f8095aebdb03"
   },
   "outputs": [],
   "source": [
    "X = df2.drop(\"student_marks\", axis = \"columns\")\n",
    "#X = df2.study_hours\n",
    "y = df2.student_marks"
   ]
  },
  {
   "cell_type": "code",
   "execution_count": 14,
   "metadata": {
    "colab": {
     "base_uri": "https://localhost:8080/",
     "height": 90
    },
    "colab_type": "code",
    "executionInfo": {
     "elapsed": 3724,
     "status": "ok",
     "timestamp": 1591639759890,
     "user": {
      "displayName": "Indian AI Production",
      "photoUrl": "https://lh3.googleusercontent.com/a-/AOh14Gj3ZvzF_5wYrhSUbb_fejZZI0SOJB4k_MnwL_ZT=s64",
      "userId": "18422374217311601843"
     },
     "user_tz": -330
    },
    "id": "_6ZIrQgsfTMT",
    "outputId": "9881f63d-7fcc-40a3-8327-acf829ccfb98"
   },
   "outputs": [],
   "source": [
    "from sklearn.model_selection import train_test_split\n",
    "X_train, X_test, y_train, y_test = train_test_split(X,y, test_size = 0.2) #, random_state=51"
   ]
  },
  {
   "cell_type": "code",
   "execution_count": 15,
   "metadata": {},
   "outputs": [
    {
     "data": {
      "text/html": [
       "<div>\n",
       "<style scoped>\n",
       "    .dataframe tbody tr th:only-of-type {\n",
       "        vertical-align: middle;\n",
       "    }\n",
       "\n",
       "    .dataframe tbody tr th {\n",
       "        vertical-align: top;\n",
       "    }\n",
       "\n",
       "    .dataframe thead th {\n",
       "        text-align: right;\n",
       "    }\n",
       "</style>\n",
       "<table border=\"1\" class=\"dataframe\">\n",
       "  <thead>\n",
       "    <tr style=\"text-align: right;\">\n",
       "      <th></th>\n",
       "      <th>study_hours</th>\n",
       "    </tr>\n",
       "  </thead>\n",
       "  <tbody>\n",
       "    <tr>\n",
       "      <th>152</th>\n",
       "      <td>8.08</td>\n",
       "    </tr>\n",
       "    <tr>\n",
       "      <th>1</th>\n",
       "      <td>6.56</td>\n",
       "    </tr>\n",
       "    <tr>\n",
       "      <th>101</th>\n",
       "      <td>7.95</td>\n",
       "    </tr>\n",
       "    <tr>\n",
       "      <th>157</th>\n",
       "      <td>6.18</td>\n",
       "    </tr>\n",
       "    <tr>\n",
       "      <th>84</th>\n",
       "      <td>6.88</td>\n",
       "    </tr>\n",
       "    <tr>\n",
       "      <th>...</th>\n",
       "      <td>...</td>\n",
       "    </tr>\n",
       "    <tr>\n",
       "      <th>114</th>\n",
       "      <td>7.12</td>\n",
       "    </tr>\n",
       "    <tr>\n",
       "      <th>137</th>\n",
       "      <td>5.14</td>\n",
       "    </tr>\n",
       "    <tr>\n",
       "      <th>76</th>\n",
       "      <td>5.11</td>\n",
       "    </tr>\n",
       "    <tr>\n",
       "      <th>115</th>\n",
       "      <td>5.79</td>\n",
       "    </tr>\n",
       "    <tr>\n",
       "      <th>153</th>\n",
       "      <td>5.24</td>\n",
       "    </tr>\n",
       "  </tbody>\n",
       "</table>\n",
       "<p>160 rows × 1 columns</p>\n",
       "</div>"
      ],
      "text/plain": [
       "     study_hours\n",
       "152         8.08\n",
       "1           6.56\n",
       "101         7.95\n",
       "157         6.18\n",
       "84          6.88\n",
       "..           ...\n",
       "114         7.12\n",
       "137         5.14\n",
       "76          5.11\n",
       "115         5.79\n",
       "153         5.24\n",
       "\n",
       "[160 rows x 1 columns]"
      ]
     },
     "execution_count": 15,
     "metadata": {},
     "output_type": "execute_result"
    }
   ],
   "source": [
    "X_train"
   ]
  },
  {
   "cell_type": "code",
   "execution_count": 16,
   "metadata": {},
   "outputs": [
    {
     "data": {
      "text/plain": [
       "152    81.70\n",
       "1      76.74\n",
       "101    82.03\n",
       "157    75.52\n",
       "84     77.29\n",
       "       ...  \n",
       "114    78.42\n",
       "137    71.22\n",
       "76     72.08\n",
       "115    74.44\n",
       "153    70.78\n",
       "Name: student_marks, Length: 160, dtype: float64"
      ]
     },
     "execution_count": 16,
     "metadata": {},
     "output_type": "execute_result"
    }
   ],
   "source": [
    "y_train"
   ]
  },
  {
   "cell_type": "code",
   "execution_count": 17,
   "metadata": {},
   "outputs": [
    {
     "data": {
      "text/html": [
       "<div>\n",
       "<style scoped>\n",
       "    .dataframe tbody tr th:only-of-type {\n",
       "        vertical-align: middle;\n",
       "    }\n",
       "\n",
       "    .dataframe tbody tr th {\n",
       "        vertical-align: top;\n",
       "    }\n",
       "\n",
       "    .dataframe thead th {\n",
       "        text-align: right;\n",
       "    }\n",
       "</style>\n",
       "<table border=\"1\" class=\"dataframe\">\n",
       "  <thead>\n",
       "    <tr style=\"text-align: right;\">\n",
       "      <th></th>\n",
       "      <th>study_hours</th>\n",
       "    </tr>\n",
       "  </thead>\n",
       "  <tbody>\n",
       "    <tr>\n",
       "      <th>91</th>\n",
       "      <td>8.200000</td>\n",
       "    </tr>\n",
       "    <tr>\n",
       "      <th>166</th>\n",
       "      <td>7.800000</td>\n",
       "    </tr>\n",
       "    <tr>\n",
       "      <th>190</th>\n",
       "      <td>5.790000</td>\n",
       "    </tr>\n",
       "    <tr>\n",
       "      <th>178</th>\n",
       "      <td>8.420000</td>\n",
       "    </tr>\n",
       "    <tr>\n",
       "      <th>11</th>\n",
       "      <td>8.560000</td>\n",
       "    </tr>\n",
       "    <tr>\n",
       "      <th>2</th>\n",
       "      <td>6.995949</td>\n",
       "    </tr>\n",
       "    <tr>\n",
       "      <th>167</th>\n",
       "      <td>5.070000</td>\n",
       "    </tr>\n",
       "    <tr>\n",
       "      <th>67</th>\n",
       "      <td>8.260000</td>\n",
       "    </tr>\n",
       "    <tr>\n",
       "      <th>86</th>\n",
       "      <td>5.880000</td>\n",
       "    </tr>\n",
       "    <tr>\n",
       "      <th>78</th>\n",
       "      <td>5.090000</td>\n",
       "    </tr>\n",
       "    <tr>\n",
       "      <th>121</th>\n",
       "      <td>8.310000</td>\n",
       "    </tr>\n",
       "    <tr>\n",
       "      <th>80</th>\n",
       "      <td>8.340000</td>\n",
       "    </tr>\n",
       "    <tr>\n",
       "      <th>177</th>\n",
       "      <td>5.790000</td>\n",
       "    </tr>\n",
       "    <tr>\n",
       "      <th>125</th>\n",
       "      <td>8.750000</td>\n",
       "    </tr>\n",
       "    <tr>\n",
       "      <th>180</th>\n",
       "      <td>6.970000</td>\n",
       "    </tr>\n",
       "    <tr>\n",
       "      <th>188</th>\n",
       "      <td>6.995949</td>\n",
       "    </tr>\n",
       "    <tr>\n",
       "      <th>105</th>\n",
       "      <td>6.460000</td>\n",
       "    </tr>\n",
       "    <tr>\n",
       "      <th>66</th>\n",
       "      <td>7.860000</td>\n",
       "    </tr>\n",
       "    <tr>\n",
       "      <th>151</th>\n",
       "      <td>6.770000</td>\n",
       "    </tr>\n",
       "    <tr>\n",
       "      <th>160</th>\n",
       "      <td>7.700000</td>\n",
       "    </tr>\n",
       "    <tr>\n",
       "      <th>28</th>\n",
       "      <td>5.940000</td>\n",
       "    </tr>\n",
       "    <tr>\n",
       "      <th>191</th>\n",
       "      <td>5.220000</td>\n",
       "    </tr>\n",
       "    <tr>\n",
       "      <th>10</th>\n",
       "      <td>6.590000</td>\n",
       "    </tr>\n",
       "    <tr>\n",
       "      <th>51</th>\n",
       "      <td>7.310000</td>\n",
       "    </tr>\n",
       "    <tr>\n",
       "      <th>93</th>\n",
       "      <td>7.900000</td>\n",
       "    </tr>\n",
       "    <tr>\n",
       "      <th>34</th>\n",
       "      <td>8.720000</td>\n",
       "    </tr>\n",
       "    <tr>\n",
       "      <th>43</th>\n",
       "      <td>8.300000</td>\n",
       "    </tr>\n",
       "    <tr>\n",
       "      <th>119</th>\n",
       "      <td>6.600000</td>\n",
       "    </tr>\n",
       "    <tr>\n",
       "      <th>175</th>\n",
       "      <td>5.390000</td>\n",
       "    </tr>\n",
       "    <tr>\n",
       "      <th>57</th>\n",
       "      <td>8.930000</td>\n",
       "    </tr>\n",
       "    <tr>\n",
       "      <th>40</th>\n",
       "      <td>5.280000</td>\n",
       "    </tr>\n",
       "    <tr>\n",
       "      <th>130</th>\n",
       "      <td>5.640000</td>\n",
       "    </tr>\n",
       "    <tr>\n",
       "      <th>21</th>\n",
       "      <td>8.160000</td>\n",
       "    </tr>\n",
       "    <tr>\n",
       "      <th>15</th>\n",
       "      <td>6.550000</td>\n",
       "    </tr>\n",
       "    <tr>\n",
       "      <th>111</th>\n",
       "      <td>6.370000</td>\n",
       "    </tr>\n",
       "    <tr>\n",
       "      <th>179</th>\n",
       "      <td>7.260000</td>\n",
       "    </tr>\n",
       "    <tr>\n",
       "      <th>108</th>\n",
       "      <td>5.840000</td>\n",
       "    </tr>\n",
       "    <tr>\n",
       "      <th>100</th>\n",
       "      <td>6.240000</td>\n",
       "    </tr>\n",
       "    <tr>\n",
       "      <th>159</th>\n",
       "      <td>7.860000</td>\n",
       "    </tr>\n",
       "    <tr>\n",
       "      <th>53</th>\n",
       "      <td>5.520000</td>\n",
       "    </tr>\n",
       "  </tbody>\n",
       "</table>\n",
       "</div>"
      ],
      "text/plain": [
       "     study_hours\n",
       "91      8.200000\n",
       "166     7.800000\n",
       "190     5.790000\n",
       "178     8.420000\n",
       "11      8.560000\n",
       "2       6.995949\n",
       "167     5.070000\n",
       "67      8.260000\n",
       "86      5.880000\n",
       "78      5.090000\n",
       "121     8.310000\n",
       "80      8.340000\n",
       "177     5.790000\n",
       "125     8.750000\n",
       "180     6.970000\n",
       "188     6.995949\n",
       "105     6.460000\n",
       "66      7.860000\n",
       "151     6.770000\n",
       "160     7.700000\n",
       "28      5.940000\n",
       "191     5.220000\n",
       "10      6.590000\n",
       "51      7.310000\n",
       "93      7.900000\n",
       "34      8.720000\n",
       "43      8.300000\n",
       "119     6.600000\n",
       "175     5.390000\n",
       "57      8.930000\n",
       "40      5.280000\n",
       "130     5.640000\n",
       "21      8.160000\n",
       "15      6.550000\n",
       "111     6.370000\n",
       "179     7.260000\n",
       "108     5.840000\n",
       "100     6.240000\n",
       "159     7.860000\n",
       "53      5.520000"
      ]
     },
     "execution_count": 17,
     "metadata": {},
     "output_type": "execute_result"
    }
   ],
   "source": [
    "X_test"
   ]
  },
  {
   "cell_type": "code",
   "execution_count": 18,
   "metadata": {},
   "outputs": [
    {
     "data": {
      "text/plain": [
       "91     82.10\n",
       "166    81.60\n",
       "190    73.14\n",
       "178    84.24\n",
       "11     83.88\n",
       "2      78.68\n",
       "167    70.79\n",
       "67     81.70\n",
       "86     73.40\n",
       "78     70.05\n",
       "121    82.69\n",
       "80     84.00\n",
       "177    73.64\n",
       "125    85.95\n",
       "180    77.19\n",
       "188    77.27\n",
       "105    77.07\n",
       "66     81.25\n",
       "151    76.70\n",
       "160    80.81\n",
       "28     74.15\n",
       "191    70.51\n",
       "10     75.37\n",
       "51     77.77\n",
       "93     79.10\n",
       "34     83.08\n",
       "43     82.84\n",
       "119    75.55\n",
       "175    71.11\n",
       "57     86.65\n",
       "40     70.27\n",
       "130    73.19\n",
       "21     83.36\n",
       "15     76.03\n",
       "111    75.04\n",
       "179    78.17\n",
       "108    74.25\n",
       "100    75.18\n",
       "159    80.72\n",
       "53     71.45\n",
       "Name: student_marks, dtype: float64"
      ]
     },
     "execution_count": 18,
     "metadata": {},
     "output_type": "execute_result"
    }
   ],
   "source": [
    "y_test"
   ]
  },
  {
   "cell_type": "markdown",
   "metadata": {
    "colab_type": "text",
    "id": "1rNWhS0HhD-2"
   },
   "source": [
    "# Select a model and train it"
   ]
  },
  {
   "cell_type": "code",
   "execution_count": 19,
   "metadata": {
    "colab": {},
    "colab_type": "code",
    "id": "MVgWJHfjgxlJ"
   },
   "outputs": [
    {
     "data": {
      "text/html": [
       "<style>#sk-container-id-1 {\n",
       "  /* Definition of color scheme common for light and dark mode */\n",
       "  --sklearn-color-text: black;\n",
       "  --sklearn-color-line: gray;\n",
       "  /* Definition of color scheme for unfitted estimators */\n",
       "  --sklearn-color-unfitted-level-0: #fff5e6;\n",
       "  --sklearn-color-unfitted-level-1: #f6e4d2;\n",
       "  --sklearn-color-unfitted-level-2: #ffe0b3;\n",
       "  --sklearn-color-unfitted-level-3: chocolate;\n",
       "  /* Definition of color scheme for fitted estimators */\n",
       "  --sklearn-color-fitted-level-0: #f0f8ff;\n",
       "  --sklearn-color-fitted-level-1: #d4ebff;\n",
       "  --sklearn-color-fitted-level-2: #b3dbfd;\n",
       "  --sklearn-color-fitted-level-3: cornflowerblue;\n",
       "\n",
       "  /* Specific color for light theme */\n",
       "  --sklearn-color-text-on-default-background: var(--sg-text-color, var(--theme-code-foreground, var(--jp-content-font-color1, black)));\n",
       "  --sklearn-color-background: var(--sg-background-color, var(--theme-background, var(--jp-layout-color0, white)));\n",
       "  --sklearn-color-border-box: var(--sg-text-color, var(--theme-code-foreground, var(--jp-content-font-color1, black)));\n",
       "  --sklearn-color-icon: #696969;\n",
       "\n",
       "  @media (prefers-color-scheme: dark) {\n",
       "    /* Redefinition of color scheme for dark theme */\n",
       "    --sklearn-color-text-on-default-background: var(--sg-text-color, var(--theme-code-foreground, var(--jp-content-font-color1, white)));\n",
       "    --sklearn-color-background: var(--sg-background-color, var(--theme-background, var(--jp-layout-color0, #111)));\n",
       "    --sklearn-color-border-box: var(--sg-text-color, var(--theme-code-foreground, var(--jp-content-font-color1, white)));\n",
       "    --sklearn-color-icon: #878787;\n",
       "  }\n",
       "}\n",
       "\n",
       "#sk-container-id-1 {\n",
       "  color: var(--sklearn-color-text);\n",
       "}\n",
       "\n",
       "#sk-container-id-1 pre {\n",
       "  padding: 0;\n",
       "}\n",
       "\n",
       "#sk-container-id-1 input.sk-hidden--visually {\n",
       "  border: 0;\n",
       "  clip: rect(1px 1px 1px 1px);\n",
       "  clip: rect(1px, 1px, 1px, 1px);\n",
       "  height: 1px;\n",
       "  margin: -1px;\n",
       "  overflow: hidden;\n",
       "  padding: 0;\n",
       "  position: absolute;\n",
       "  width: 1px;\n",
       "}\n",
       "\n",
       "#sk-container-id-1 div.sk-dashed-wrapped {\n",
       "  border: 1px dashed var(--sklearn-color-line);\n",
       "  margin: 0 0.4em 0.5em 0.4em;\n",
       "  box-sizing: border-box;\n",
       "  padding-bottom: 0.4em;\n",
       "  background-color: var(--sklearn-color-background);\n",
       "}\n",
       "\n",
       "#sk-container-id-1 div.sk-container {\n",
       "  /* jupyter's `normalize.less` sets `[hidden] { display: none; }`\n",
       "     but bootstrap.min.css set `[hidden] { display: none !important; }`\n",
       "     so we also need the `!important` here to be able to override the\n",
       "     default hidden behavior on the sphinx rendered scikit-learn.org.\n",
       "     See: https://github.com/scikit-learn/scikit-learn/issues/21755 */\n",
       "  display: inline-block !important;\n",
       "  position: relative;\n",
       "}\n",
       "\n",
       "#sk-container-id-1 div.sk-text-repr-fallback {\n",
       "  display: none;\n",
       "}\n",
       "\n",
       "div.sk-parallel-item,\n",
       "div.sk-serial,\n",
       "div.sk-item {\n",
       "  /* draw centered vertical line to link estimators */\n",
       "  background-image: linear-gradient(var(--sklearn-color-text-on-default-background), var(--sklearn-color-text-on-default-background));\n",
       "  background-size: 2px 100%;\n",
       "  background-repeat: no-repeat;\n",
       "  background-position: center center;\n",
       "}\n",
       "\n",
       "/* Parallel-specific style estimator block */\n",
       "\n",
       "#sk-container-id-1 div.sk-parallel-item::after {\n",
       "  content: \"\";\n",
       "  width: 100%;\n",
       "  border-bottom: 2px solid var(--sklearn-color-text-on-default-background);\n",
       "  flex-grow: 1;\n",
       "}\n",
       "\n",
       "#sk-container-id-1 div.sk-parallel {\n",
       "  display: flex;\n",
       "  align-items: stretch;\n",
       "  justify-content: center;\n",
       "  background-color: var(--sklearn-color-background);\n",
       "  position: relative;\n",
       "}\n",
       "\n",
       "#sk-container-id-1 div.sk-parallel-item {\n",
       "  display: flex;\n",
       "  flex-direction: column;\n",
       "}\n",
       "\n",
       "#sk-container-id-1 div.sk-parallel-item:first-child::after {\n",
       "  align-self: flex-end;\n",
       "  width: 50%;\n",
       "}\n",
       "\n",
       "#sk-container-id-1 div.sk-parallel-item:last-child::after {\n",
       "  align-self: flex-start;\n",
       "  width: 50%;\n",
       "}\n",
       "\n",
       "#sk-container-id-1 div.sk-parallel-item:only-child::after {\n",
       "  width: 0;\n",
       "}\n",
       "\n",
       "/* Serial-specific style estimator block */\n",
       "\n",
       "#sk-container-id-1 div.sk-serial {\n",
       "  display: flex;\n",
       "  flex-direction: column;\n",
       "  align-items: center;\n",
       "  background-color: var(--sklearn-color-background);\n",
       "  padding-right: 1em;\n",
       "  padding-left: 1em;\n",
       "}\n",
       "\n",
       "\n",
       "/* Toggleable style: style used for estimator/Pipeline/ColumnTransformer box that is\n",
       "clickable and can be expanded/collapsed.\n",
       "- Pipeline and ColumnTransformer use this feature and define the default style\n",
       "- Estimators will overwrite some part of the style using the `sk-estimator` class\n",
       "*/\n",
       "\n",
       "/* Pipeline and ColumnTransformer style (default) */\n",
       "\n",
       "#sk-container-id-1 div.sk-toggleable {\n",
       "  /* Default theme specific background. It is overwritten whether we have a\n",
       "  specific estimator or a Pipeline/ColumnTransformer */\n",
       "  background-color: var(--sklearn-color-background);\n",
       "}\n",
       "\n",
       "/* Toggleable label */\n",
       "#sk-container-id-1 label.sk-toggleable__label {\n",
       "  cursor: pointer;\n",
       "  display: block;\n",
       "  width: 100%;\n",
       "  margin-bottom: 0;\n",
       "  padding: 0.5em;\n",
       "  box-sizing: border-box;\n",
       "  text-align: center;\n",
       "}\n",
       "\n",
       "#sk-container-id-1 label.sk-toggleable__label-arrow:before {\n",
       "  /* Arrow on the left of the label */\n",
       "  content: \"▸\";\n",
       "  float: left;\n",
       "  margin-right: 0.25em;\n",
       "  color: var(--sklearn-color-icon);\n",
       "}\n",
       "\n",
       "#sk-container-id-1 label.sk-toggleable__label-arrow:hover:before {\n",
       "  color: var(--sklearn-color-text);\n",
       "}\n",
       "\n",
       "/* Toggleable content - dropdown */\n",
       "\n",
       "#sk-container-id-1 div.sk-toggleable__content {\n",
       "  max-height: 0;\n",
       "  max-width: 0;\n",
       "  overflow: hidden;\n",
       "  text-align: left;\n",
       "  /* unfitted */\n",
       "  background-color: var(--sklearn-color-unfitted-level-0);\n",
       "}\n",
       "\n",
       "#sk-container-id-1 div.sk-toggleable__content.fitted {\n",
       "  /* fitted */\n",
       "  background-color: var(--sklearn-color-fitted-level-0);\n",
       "}\n",
       "\n",
       "#sk-container-id-1 div.sk-toggleable__content pre {\n",
       "  margin: 0.2em;\n",
       "  border-radius: 0.25em;\n",
       "  color: var(--sklearn-color-text);\n",
       "  /* unfitted */\n",
       "  background-color: var(--sklearn-color-unfitted-level-0);\n",
       "}\n",
       "\n",
       "#sk-container-id-1 div.sk-toggleable__content.fitted pre {\n",
       "  /* unfitted */\n",
       "  background-color: var(--sklearn-color-fitted-level-0);\n",
       "}\n",
       "\n",
       "#sk-container-id-1 input.sk-toggleable__control:checked~div.sk-toggleable__content {\n",
       "  /* Expand drop-down */\n",
       "  max-height: 200px;\n",
       "  max-width: 100%;\n",
       "  overflow: auto;\n",
       "}\n",
       "\n",
       "#sk-container-id-1 input.sk-toggleable__control:checked~label.sk-toggleable__label-arrow:before {\n",
       "  content: \"▾\";\n",
       "}\n",
       "\n",
       "/* Pipeline/ColumnTransformer-specific style */\n",
       "\n",
       "#sk-container-id-1 div.sk-label input.sk-toggleable__control:checked~label.sk-toggleable__label {\n",
       "  color: var(--sklearn-color-text);\n",
       "  background-color: var(--sklearn-color-unfitted-level-2);\n",
       "}\n",
       "\n",
       "#sk-container-id-1 div.sk-label.fitted input.sk-toggleable__control:checked~label.sk-toggleable__label {\n",
       "  background-color: var(--sklearn-color-fitted-level-2);\n",
       "}\n",
       "\n",
       "/* Estimator-specific style */\n",
       "\n",
       "/* Colorize estimator box */\n",
       "#sk-container-id-1 div.sk-estimator input.sk-toggleable__control:checked~label.sk-toggleable__label {\n",
       "  /* unfitted */\n",
       "  background-color: var(--sklearn-color-unfitted-level-2);\n",
       "}\n",
       "\n",
       "#sk-container-id-1 div.sk-estimator.fitted input.sk-toggleable__control:checked~label.sk-toggleable__label {\n",
       "  /* fitted */\n",
       "  background-color: var(--sklearn-color-fitted-level-2);\n",
       "}\n",
       "\n",
       "#sk-container-id-1 div.sk-label label.sk-toggleable__label,\n",
       "#sk-container-id-1 div.sk-label label {\n",
       "  /* The background is the default theme color */\n",
       "  color: var(--sklearn-color-text-on-default-background);\n",
       "}\n",
       "\n",
       "/* On hover, darken the color of the background */\n",
       "#sk-container-id-1 div.sk-label:hover label.sk-toggleable__label {\n",
       "  color: var(--sklearn-color-text);\n",
       "  background-color: var(--sklearn-color-unfitted-level-2);\n",
       "}\n",
       "\n",
       "/* Label box, darken color on hover, fitted */\n",
       "#sk-container-id-1 div.sk-label.fitted:hover label.sk-toggleable__label.fitted {\n",
       "  color: var(--sklearn-color-text);\n",
       "  background-color: var(--sklearn-color-fitted-level-2);\n",
       "}\n",
       "\n",
       "/* Estimator label */\n",
       "\n",
       "#sk-container-id-1 div.sk-label label {\n",
       "  font-family: monospace;\n",
       "  font-weight: bold;\n",
       "  display: inline-block;\n",
       "  line-height: 1.2em;\n",
       "}\n",
       "\n",
       "#sk-container-id-1 div.sk-label-container {\n",
       "  text-align: center;\n",
       "}\n",
       "\n",
       "/* Estimator-specific */\n",
       "#sk-container-id-1 div.sk-estimator {\n",
       "  font-family: monospace;\n",
       "  border: 1px dotted var(--sklearn-color-border-box);\n",
       "  border-radius: 0.25em;\n",
       "  box-sizing: border-box;\n",
       "  margin-bottom: 0.5em;\n",
       "  /* unfitted */\n",
       "  background-color: var(--sklearn-color-unfitted-level-0);\n",
       "}\n",
       "\n",
       "#sk-container-id-1 div.sk-estimator.fitted {\n",
       "  /* fitted */\n",
       "  background-color: var(--sklearn-color-fitted-level-0);\n",
       "}\n",
       "\n",
       "/* on hover */\n",
       "#sk-container-id-1 div.sk-estimator:hover {\n",
       "  /* unfitted */\n",
       "  background-color: var(--sklearn-color-unfitted-level-2);\n",
       "}\n",
       "\n",
       "#sk-container-id-1 div.sk-estimator.fitted:hover {\n",
       "  /* fitted */\n",
       "  background-color: var(--sklearn-color-fitted-level-2);\n",
       "}\n",
       "\n",
       "/* Specification for estimator info (e.g. \"i\" and \"?\") */\n",
       "\n",
       "/* Common style for \"i\" and \"?\" */\n",
       "\n",
       ".sk-estimator-doc-link,\n",
       "a:link.sk-estimator-doc-link,\n",
       "a:visited.sk-estimator-doc-link {\n",
       "  float: right;\n",
       "  font-size: smaller;\n",
       "  line-height: 1em;\n",
       "  font-family: monospace;\n",
       "  background-color: var(--sklearn-color-background);\n",
       "  border-radius: 1em;\n",
       "  height: 1em;\n",
       "  width: 1em;\n",
       "  text-decoration: none !important;\n",
       "  margin-left: 1ex;\n",
       "  /* unfitted */\n",
       "  border: var(--sklearn-color-unfitted-level-1) 1pt solid;\n",
       "  color: var(--sklearn-color-unfitted-level-1);\n",
       "}\n",
       "\n",
       ".sk-estimator-doc-link.fitted,\n",
       "a:link.sk-estimator-doc-link.fitted,\n",
       "a:visited.sk-estimator-doc-link.fitted {\n",
       "  /* fitted */\n",
       "  border: var(--sklearn-color-fitted-level-1) 1pt solid;\n",
       "  color: var(--sklearn-color-fitted-level-1);\n",
       "}\n",
       "\n",
       "/* On hover */\n",
       "div.sk-estimator:hover .sk-estimator-doc-link:hover,\n",
       ".sk-estimator-doc-link:hover,\n",
       "div.sk-label-container:hover .sk-estimator-doc-link:hover,\n",
       ".sk-estimator-doc-link:hover {\n",
       "  /* unfitted */\n",
       "  background-color: var(--sklearn-color-unfitted-level-3);\n",
       "  color: var(--sklearn-color-background);\n",
       "  text-decoration: none;\n",
       "}\n",
       "\n",
       "div.sk-estimator.fitted:hover .sk-estimator-doc-link.fitted:hover,\n",
       ".sk-estimator-doc-link.fitted:hover,\n",
       "div.sk-label-container:hover .sk-estimator-doc-link.fitted:hover,\n",
       ".sk-estimator-doc-link.fitted:hover {\n",
       "  /* fitted */\n",
       "  background-color: var(--sklearn-color-fitted-level-3);\n",
       "  color: var(--sklearn-color-background);\n",
       "  text-decoration: none;\n",
       "}\n",
       "\n",
       "/* Span, style for the box shown on hovering the info icon */\n",
       ".sk-estimator-doc-link span {\n",
       "  display: none;\n",
       "  z-index: 9999;\n",
       "  position: relative;\n",
       "  font-weight: normal;\n",
       "  right: .2ex;\n",
       "  padding: .5ex;\n",
       "  margin: .5ex;\n",
       "  width: min-content;\n",
       "  min-width: 20ex;\n",
       "  max-width: 50ex;\n",
       "  color: var(--sklearn-color-text);\n",
       "  box-shadow: 2pt 2pt 4pt #999;\n",
       "  /* unfitted */\n",
       "  background: var(--sklearn-color-unfitted-level-0);\n",
       "  border: .5pt solid var(--sklearn-color-unfitted-level-3);\n",
       "}\n",
       "\n",
       ".sk-estimator-doc-link.fitted span {\n",
       "  /* fitted */\n",
       "  background: var(--sklearn-color-fitted-level-0);\n",
       "  border: var(--sklearn-color-fitted-level-3);\n",
       "}\n",
       "\n",
       ".sk-estimator-doc-link:hover span {\n",
       "  display: block;\n",
       "}\n",
       "\n",
       "/* \"?\"-specific style due to the `<a>` HTML tag */\n",
       "\n",
       "#sk-container-id-1 a.estimator_doc_link {\n",
       "  float: right;\n",
       "  font-size: 1rem;\n",
       "  line-height: 1em;\n",
       "  font-family: monospace;\n",
       "  background-color: var(--sklearn-color-background);\n",
       "  border-radius: 1rem;\n",
       "  height: 1rem;\n",
       "  width: 1rem;\n",
       "  text-decoration: none;\n",
       "  /* unfitted */\n",
       "  color: var(--sklearn-color-unfitted-level-1);\n",
       "  border: var(--sklearn-color-unfitted-level-1) 1pt solid;\n",
       "}\n",
       "\n",
       "#sk-container-id-1 a.estimator_doc_link.fitted {\n",
       "  /* fitted */\n",
       "  border: var(--sklearn-color-fitted-level-1) 1pt solid;\n",
       "  color: var(--sklearn-color-fitted-level-1);\n",
       "}\n",
       "\n",
       "/* On hover */\n",
       "#sk-container-id-1 a.estimator_doc_link:hover {\n",
       "  /* unfitted */\n",
       "  background-color: var(--sklearn-color-unfitted-level-3);\n",
       "  color: var(--sklearn-color-background);\n",
       "  text-decoration: none;\n",
       "}\n",
       "\n",
       "#sk-container-id-1 a.estimator_doc_link.fitted:hover {\n",
       "  /* fitted */\n",
       "  background-color: var(--sklearn-color-fitted-level-3);\n",
       "}\n",
       "</style><div id=\"sk-container-id-1\" class=\"sk-top-container\"><div class=\"sk-text-repr-fallback\"><pre>LinearRegression()</pre><b>In a Jupyter environment, please rerun this cell to show the HTML representation or trust the notebook. <br />On GitHub, the HTML representation is unable to render, please try loading this page with nbviewer.org.</b></div><div class=\"sk-container\" hidden><div class=\"sk-item\"><div class=\"sk-estimator fitted sk-toggleable\"><input class=\"sk-toggleable__control sk-hidden--visually\" id=\"sk-estimator-id-1\" type=\"checkbox\" checked><label for=\"sk-estimator-id-1\" class=\"sk-toggleable__label fitted sk-toggleable__label-arrow fitted\">&nbsp;&nbsp;LinearRegression<a class=\"sk-estimator-doc-link fitted\" rel=\"noreferrer\" target=\"_blank\" href=\"https://scikit-learn.org/1.5/modules/generated/sklearn.linear_model.LinearRegression.html\">?<span>Documentation for LinearRegression</span></a><span class=\"sk-estimator-doc-link fitted\">i<span>Fitted</span></span></label><div class=\"sk-toggleable__content fitted\"><pre>LinearRegression()</pre></div> </div></div></div></div>"
      ],
      "text/plain": [
       "LinearRegression()"
      ]
     },
     "execution_count": 19,
     "metadata": {},
     "output_type": "execute_result"
    }
   ],
   "source": [
    "from sklearn.linear_model import LinearRegression\n",
    "lr = LinearRegression()\n",
    "lr.fit(X_train, y_train)"
   ]
  },
  {
   "cell_type": "code",
   "execution_count": 20,
   "metadata": {
    "colab": {
     "base_uri": "https://localhost:8080/",
     "height": 35
    },
    "colab_type": "code",
    "executionInfo": {
     "elapsed": 4344,
     "status": "ok",
     "timestamp": 1591639760566,
     "user": {
      "displayName": "Indian AI Production",
      "photoUrl": "https://lh3.googleusercontent.com/a-/AOh14Gj3ZvzF_5wYrhSUbb_fejZZI0SOJB4k_MnwL_ZT=s64",
      "userId": "18422374217311601843"
     },
     "user_tz": -330
    },
    "id": "eBfxeIeEiaOB",
    "outputId": "8e9667ab-13f6-415c-da25-09f613fe75f5"
   },
   "outputs": [
    {
     "data": {
      "text/plain": [
       "array([3.88848522])"
      ]
     },
     "execution_count": 20,
     "metadata": {},
     "output_type": "execute_result"
    }
   ],
   "source": [
    "lr.coef_"
   ]
  },
  {
   "cell_type": "code",
   "execution_count": 21,
   "metadata": {
    "colab": {
     "base_uri": "https://localhost:8080/",
     "height": 35
    },
    "colab_type": "code",
    "executionInfo": {
     "elapsed": 4296,
     "status": "ok",
     "timestamp": 1591639760569,
     "user": {
      "displayName": "Indian AI Production",
      "photoUrl": "https://lh3.googleusercontent.com/a-/AOh14Gj3ZvzF_5wYrhSUbb_fejZZI0SOJB4k_MnwL_ZT=s64",
      "userId": "18422374217311601843"
     },
     "user_tz": -330
    },
    "id": "rtDBlJpVjLDj",
    "outputId": "9014781d-6838-4042-ca09-055f2efe680b"
   },
   "outputs": [
    {
     "data": {
      "text/plain": [
       "50.77141161923032"
      ]
     },
     "execution_count": 21,
     "metadata": {},
     "output_type": "execute_result"
    }
   ],
   "source": [
    "lr.intercept_"
   ]
  },
  {
   "cell_type": "code",
   "execution_count": null,
   "metadata": {
    "colab": {
     "base_uri": "https://localhost:8080/",
     "height": 35
    },
    "colab_type": "code",
    "executionInfo": {
     "elapsed": 4242,
     "status": "ok",
     "timestamp": 1591639760570,
     "user": {
      "displayName": "Indian AI Production",
      "photoUrl": "https://lh3.googleusercontent.com/a-/AOh14Gj3ZvzF_5wYrhSUbb_fejZZI0SOJB4k_MnwL_ZT=s64",
      "userId": "18422374217311601843"
     },
     "user_tz": -330
    },
    "id": "bm6MKaI1jR2s",
    "outputId": "1aa6ef13-c4fe-428d-c862-1fc38651e8ab"
   },
   "outputs": [],
   "source": [
    "m = 3.92759224\n",
    "c = 50.41547425152682\n",
    "z  = m * 40 + c \n",
    "z"
   ]
  },
  {
   "cell_type": "code",
   "execution_count": null,
   "metadata": {
    "colab": {
     "base_uri": "https://localhost:8080/",
     "height": 35
    },
    "colab_type": "code",
    "executionInfo": {
     "elapsed": 4214,
     "status": "ok",
     "timestamp": 1591639760572,
     "user": {
      "displayName": "Indian AI Production",
      "photoUrl": "https://lh3.googleusercontent.com/a-/AOh14Gj3ZvzF_5wYrhSUbb_fejZZI0SOJB4k_MnwL_ZT=s64",
      "userId": "18422374217311601843"
     },
     "user_tz": -330
    },
    "id": "1CZSt9CQjmHg",
    "outputId": "42901641-ea11-4004-88a1-3c6271f6da3e"
   },
   "outputs": [],
   "source": [
    "lr.predict([[40]])"
   ]
  },
  {
   "cell_type": "code",
   "execution_count": 23,
   "metadata": {
    "colab": {
     "base_uri": "https://localhost:8080/",
     "height": 745
    },
    "colab_type": "code",
    "executionInfo": {
     "elapsed": 4181,
     "status": "ok",
     "timestamp": 1591639760573,
     "user": {
      "displayName": "Indian AI Production",
      "photoUrl": "https://lh3.googleusercontent.com/a-/AOh14Gj3ZvzF_5wYrhSUbb_fejZZI0SOJB4k_MnwL_ZT=s64",
      "userId": "18422374217311601843"
     },
     "user_tz": -330
    },
    "id": "Ws6AmyL8jxKY",
    "outputId": "180afab5-de99-4021-90e9-24b03adf10ed"
   },
   "outputs": [
    {
     "data": {
      "text/plain": [
       "array([82.65699045, 81.10159636, 73.28574106, 83.5124572 , 84.05684513,\n",
       "       77.97505483, 70.4860317 , 82.89029956, 73.63570473, 70.5638014 ,\n",
       "       83.08472382, 83.20137838, 73.28574106, 84.79565732, 77.87415362,\n",
       "       77.97505483, 75.89102616, 81.33490547, 77.09645658, 80.71274784,\n",
       "       73.86901384, 71.06930448, 76.39652924, 79.1962386 , 81.49044488,\n",
       "       84.67900276, 83.04583897, 76.43541409, 71.73034697, 85.49558466,\n",
       "       71.3026136 , 72.70246828, 82.50145104, 76.24098983, 75.54106249,\n",
       "       79.00181434, 73.48016532, 75.03555941, 81.33490547, 72.23585005])"
      ]
     },
     "execution_count": 23,
     "metadata": {},
     "output_type": "execute_result"
    }
   ],
   "source": [
    "y_pred  = lr.predict(X_test)\n",
    "y_pred"
   ]
  },
  {
   "cell_type": "code",
   "execution_count": 24,
   "metadata": {},
   "outputs": [
    {
     "data": {
      "text/plain": [
       "array([[ 8.2       , 82.1       , 82.65699045],\n",
       "       [ 7.8       , 81.6       , 81.10159636],\n",
       "       [ 5.79      , 73.14      , 73.28574106],\n",
       "       [ 8.42      , 84.24      , 83.5124572 ],\n",
       "       [ 8.56      , 83.88      , 84.05684513],\n",
       "       [ 6.99594872, 78.68      , 77.97505483],\n",
       "       [ 5.07      , 70.79      , 70.4860317 ],\n",
       "       [ 8.26      , 81.7       , 82.89029956],\n",
       "       [ 5.88      , 73.4       , 73.63570473],\n",
       "       [ 5.09      , 70.05      , 70.5638014 ],\n",
       "       [ 8.31      , 82.69      , 83.08472382],\n",
       "       [ 8.34      , 84.        , 83.20137838],\n",
       "       [ 5.79      , 73.64      , 73.28574106],\n",
       "       [ 8.75      , 85.95      , 84.79565732],\n",
       "       [ 6.97      , 77.19      , 77.87415362],\n",
       "       [ 6.99594872, 77.27      , 77.97505483],\n",
       "       [ 6.46      , 77.07      , 75.89102616],\n",
       "       [ 7.86      , 81.25      , 81.33490547],\n",
       "       [ 6.77      , 76.7       , 77.09645658],\n",
       "       [ 7.7       , 80.81      , 80.71274784],\n",
       "       [ 5.94      , 74.15      , 73.86901384],\n",
       "       [ 5.22      , 70.51      , 71.06930448],\n",
       "       [ 6.59      , 75.37      , 76.39652924],\n",
       "       [ 7.31      , 77.77      , 79.1962386 ],\n",
       "       [ 7.9       , 79.1       , 81.49044488],\n",
       "       [ 8.72      , 83.08      , 84.67900276],\n",
       "       [ 8.3       , 82.84      , 83.04583897],\n",
       "       [ 6.6       , 75.55      , 76.43541409],\n",
       "       [ 5.39      , 71.11      , 71.73034697],\n",
       "       [ 8.93      , 86.65      , 85.49558466],\n",
       "       [ 5.28      , 70.27      , 71.3026136 ],\n",
       "       [ 5.64      , 73.19      , 72.70246828],\n",
       "       [ 8.16      , 83.36      , 82.50145104],\n",
       "       [ 6.55      , 76.03      , 76.24098983],\n",
       "       [ 6.37      , 75.04      , 75.54106249],\n",
       "       [ 7.26      , 78.17      , 79.00181434],\n",
       "       [ 5.84      , 74.25      , 73.48016532],\n",
       "       [ 6.24      , 75.18      , 75.03555941],\n",
       "       [ 7.86      , 80.72      , 81.33490547],\n",
       "       [ 5.52      , 71.45      , 72.23585005]])"
      ]
     },
     "execution_count": 24,
     "metadata": {},
     "output_type": "execute_result"
    }
   ],
   "source": [
    "temp = np.c_[X_test, y_test, y_pred]\n",
    "temp"
   ]
  },
  {
   "cell_type": "code",
   "execution_count": 25,
   "metadata": {
    "colab": {
     "base_uri": "https://localhost:8080/",
     "height": 1000
    },
    "colab_type": "code",
    "executionInfo": {
     "elapsed": 4118,
     "status": "ok",
     "timestamp": 1591639760575,
     "user": {
      "displayName": "Indian AI Production",
      "photoUrl": "https://lh3.googleusercontent.com/a-/AOh14Gj3ZvzF_5wYrhSUbb_fejZZI0SOJB4k_MnwL_ZT=s64",
      "userId": "18422374217311601843"
     },
     "user_tz": -330
    },
    "id": "EoYmzFW-kRaz",
    "outputId": "ee65e4e2-e1b0-47a7-b7b6-ab517d6571f9"
   },
   "outputs": [
    {
     "data": {
      "text/html": [
       "<div>\n",
       "<style scoped>\n",
       "    .dataframe tbody tr th:only-of-type {\n",
       "        vertical-align: middle;\n",
       "    }\n",
       "\n",
       "    .dataframe tbody tr th {\n",
       "        vertical-align: top;\n",
       "    }\n",
       "\n",
       "    .dataframe thead th {\n",
       "        text-align: right;\n",
       "    }\n",
       "</style>\n",
       "<table border=\"1\" class=\"dataframe\">\n",
       "  <thead>\n",
       "    <tr style=\"text-align: right;\">\n",
       "      <th></th>\n",
       "      <th>study_hours</th>\n",
       "      <th>student_marks_original</th>\n",
       "      <th>student_marks_predicted</th>\n",
       "    </tr>\n",
       "  </thead>\n",
       "  <tbody>\n",
       "    <tr>\n",
       "      <th>0</th>\n",
       "      <td>8.200000</td>\n",
       "      <td>82.10</td>\n",
       "      <td>82.656990</td>\n",
       "    </tr>\n",
       "    <tr>\n",
       "      <th>1</th>\n",
       "      <td>7.800000</td>\n",
       "      <td>81.60</td>\n",
       "      <td>81.101596</td>\n",
       "    </tr>\n",
       "    <tr>\n",
       "      <th>2</th>\n",
       "      <td>5.790000</td>\n",
       "      <td>73.14</td>\n",
       "      <td>73.285741</td>\n",
       "    </tr>\n",
       "    <tr>\n",
       "      <th>3</th>\n",
       "      <td>8.420000</td>\n",
       "      <td>84.24</td>\n",
       "      <td>83.512457</td>\n",
       "    </tr>\n",
       "    <tr>\n",
       "      <th>4</th>\n",
       "      <td>8.560000</td>\n",
       "      <td>83.88</td>\n",
       "      <td>84.056845</td>\n",
       "    </tr>\n",
       "    <tr>\n",
       "      <th>5</th>\n",
       "      <td>6.995949</td>\n",
       "      <td>78.68</td>\n",
       "      <td>77.975055</td>\n",
       "    </tr>\n",
       "    <tr>\n",
       "      <th>6</th>\n",
       "      <td>5.070000</td>\n",
       "      <td>70.79</td>\n",
       "      <td>70.486032</td>\n",
       "    </tr>\n",
       "    <tr>\n",
       "      <th>7</th>\n",
       "      <td>8.260000</td>\n",
       "      <td>81.70</td>\n",
       "      <td>82.890300</td>\n",
       "    </tr>\n",
       "    <tr>\n",
       "      <th>8</th>\n",
       "      <td>5.880000</td>\n",
       "      <td>73.40</td>\n",
       "      <td>73.635705</td>\n",
       "    </tr>\n",
       "    <tr>\n",
       "      <th>9</th>\n",
       "      <td>5.090000</td>\n",
       "      <td>70.05</td>\n",
       "      <td>70.563801</td>\n",
       "    </tr>\n",
       "    <tr>\n",
       "      <th>10</th>\n",
       "      <td>8.310000</td>\n",
       "      <td>82.69</td>\n",
       "      <td>83.084724</td>\n",
       "    </tr>\n",
       "    <tr>\n",
       "      <th>11</th>\n",
       "      <td>8.340000</td>\n",
       "      <td>84.00</td>\n",
       "      <td>83.201378</td>\n",
       "    </tr>\n",
       "    <tr>\n",
       "      <th>12</th>\n",
       "      <td>5.790000</td>\n",
       "      <td>73.64</td>\n",
       "      <td>73.285741</td>\n",
       "    </tr>\n",
       "    <tr>\n",
       "      <th>13</th>\n",
       "      <td>8.750000</td>\n",
       "      <td>85.95</td>\n",
       "      <td>84.795657</td>\n",
       "    </tr>\n",
       "    <tr>\n",
       "      <th>14</th>\n",
       "      <td>6.970000</td>\n",
       "      <td>77.19</td>\n",
       "      <td>77.874154</td>\n",
       "    </tr>\n",
       "    <tr>\n",
       "      <th>15</th>\n",
       "      <td>6.995949</td>\n",
       "      <td>77.27</td>\n",
       "      <td>77.975055</td>\n",
       "    </tr>\n",
       "    <tr>\n",
       "      <th>16</th>\n",
       "      <td>6.460000</td>\n",
       "      <td>77.07</td>\n",
       "      <td>75.891026</td>\n",
       "    </tr>\n",
       "    <tr>\n",
       "      <th>17</th>\n",
       "      <td>7.860000</td>\n",
       "      <td>81.25</td>\n",
       "      <td>81.334905</td>\n",
       "    </tr>\n",
       "    <tr>\n",
       "      <th>18</th>\n",
       "      <td>6.770000</td>\n",
       "      <td>76.70</td>\n",
       "      <td>77.096457</td>\n",
       "    </tr>\n",
       "    <tr>\n",
       "      <th>19</th>\n",
       "      <td>7.700000</td>\n",
       "      <td>80.81</td>\n",
       "      <td>80.712748</td>\n",
       "    </tr>\n",
       "    <tr>\n",
       "      <th>20</th>\n",
       "      <td>5.940000</td>\n",
       "      <td>74.15</td>\n",
       "      <td>73.869014</td>\n",
       "    </tr>\n",
       "    <tr>\n",
       "      <th>21</th>\n",
       "      <td>5.220000</td>\n",
       "      <td>70.51</td>\n",
       "      <td>71.069304</td>\n",
       "    </tr>\n",
       "    <tr>\n",
       "      <th>22</th>\n",
       "      <td>6.590000</td>\n",
       "      <td>75.37</td>\n",
       "      <td>76.396529</td>\n",
       "    </tr>\n",
       "    <tr>\n",
       "      <th>23</th>\n",
       "      <td>7.310000</td>\n",
       "      <td>77.77</td>\n",
       "      <td>79.196239</td>\n",
       "    </tr>\n",
       "    <tr>\n",
       "      <th>24</th>\n",
       "      <td>7.900000</td>\n",
       "      <td>79.10</td>\n",
       "      <td>81.490445</td>\n",
       "    </tr>\n",
       "    <tr>\n",
       "      <th>25</th>\n",
       "      <td>8.720000</td>\n",
       "      <td>83.08</td>\n",
       "      <td>84.679003</td>\n",
       "    </tr>\n",
       "    <tr>\n",
       "      <th>26</th>\n",
       "      <td>8.300000</td>\n",
       "      <td>82.84</td>\n",
       "      <td>83.045839</td>\n",
       "    </tr>\n",
       "    <tr>\n",
       "      <th>27</th>\n",
       "      <td>6.600000</td>\n",
       "      <td>75.55</td>\n",
       "      <td>76.435414</td>\n",
       "    </tr>\n",
       "    <tr>\n",
       "      <th>28</th>\n",
       "      <td>5.390000</td>\n",
       "      <td>71.11</td>\n",
       "      <td>71.730347</td>\n",
       "    </tr>\n",
       "    <tr>\n",
       "      <th>29</th>\n",
       "      <td>8.930000</td>\n",
       "      <td>86.65</td>\n",
       "      <td>85.495585</td>\n",
       "    </tr>\n",
       "    <tr>\n",
       "      <th>30</th>\n",
       "      <td>5.280000</td>\n",
       "      <td>70.27</td>\n",
       "      <td>71.302614</td>\n",
       "    </tr>\n",
       "    <tr>\n",
       "      <th>31</th>\n",
       "      <td>5.640000</td>\n",
       "      <td>73.19</td>\n",
       "      <td>72.702468</td>\n",
       "    </tr>\n",
       "    <tr>\n",
       "      <th>32</th>\n",
       "      <td>8.160000</td>\n",
       "      <td>83.36</td>\n",
       "      <td>82.501451</td>\n",
       "    </tr>\n",
       "    <tr>\n",
       "      <th>33</th>\n",
       "      <td>6.550000</td>\n",
       "      <td>76.03</td>\n",
       "      <td>76.240990</td>\n",
       "    </tr>\n",
       "    <tr>\n",
       "      <th>34</th>\n",
       "      <td>6.370000</td>\n",
       "      <td>75.04</td>\n",
       "      <td>75.541062</td>\n",
       "    </tr>\n",
       "    <tr>\n",
       "      <th>35</th>\n",
       "      <td>7.260000</td>\n",
       "      <td>78.17</td>\n",
       "      <td>79.001814</td>\n",
       "    </tr>\n",
       "    <tr>\n",
       "      <th>36</th>\n",
       "      <td>5.840000</td>\n",
       "      <td>74.25</td>\n",
       "      <td>73.480165</td>\n",
       "    </tr>\n",
       "    <tr>\n",
       "      <th>37</th>\n",
       "      <td>6.240000</td>\n",
       "      <td>75.18</td>\n",
       "      <td>75.035559</td>\n",
       "    </tr>\n",
       "    <tr>\n",
       "      <th>38</th>\n",
       "      <td>7.860000</td>\n",
       "      <td>80.72</td>\n",
       "      <td>81.334905</td>\n",
       "    </tr>\n",
       "    <tr>\n",
       "      <th>39</th>\n",
       "      <td>5.520000</td>\n",
       "      <td>71.45</td>\n",
       "      <td>72.235850</td>\n",
       "    </tr>\n",
       "  </tbody>\n",
       "</table>\n",
       "</div>"
      ],
      "text/plain": [
       "    study_hours  student_marks_original  student_marks_predicted\n",
       "0      8.200000                   82.10                82.656990\n",
       "1      7.800000                   81.60                81.101596\n",
       "2      5.790000                   73.14                73.285741\n",
       "3      8.420000                   84.24                83.512457\n",
       "4      8.560000                   83.88                84.056845\n",
       "5      6.995949                   78.68                77.975055\n",
       "6      5.070000                   70.79                70.486032\n",
       "7      8.260000                   81.70                82.890300\n",
       "8      5.880000                   73.40                73.635705\n",
       "9      5.090000                   70.05                70.563801\n",
       "10     8.310000                   82.69                83.084724\n",
       "11     8.340000                   84.00                83.201378\n",
       "12     5.790000                   73.64                73.285741\n",
       "13     8.750000                   85.95                84.795657\n",
       "14     6.970000                   77.19                77.874154\n",
       "15     6.995949                   77.27                77.975055\n",
       "16     6.460000                   77.07                75.891026\n",
       "17     7.860000                   81.25                81.334905\n",
       "18     6.770000                   76.70                77.096457\n",
       "19     7.700000                   80.81                80.712748\n",
       "20     5.940000                   74.15                73.869014\n",
       "21     5.220000                   70.51                71.069304\n",
       "22     6.590000                   75.37                76.396529\n",
       "23     7.310000                   77.77                79.196239\n",
       "24     7.900000                   79.10                81.490445\n",
       "25     8.720000                   83.08                84.679003\n",
       "26     8.300000                   82.84                83.045839\n",
       "27     6.600000                   75.55                76.435414\n",
       "28     5.390000                   71.11                71.730347\n",
       "29     8.930000                   86.65                85.495585\n",
       "30     5.280000                   70.27                71.302614\n",
       "31     5.640000                   73.19                72.702468\n",
       "32     8.160000                   83.36                82.501451\n",
       "33     6.550000                   76.03                76.240990\n",
       "34     6.370000                   75.04                75.541062\n",
       "35     7.260000                   78.17                79.001814\n",
       "36     5.840000                   74.25                73.480165\n",
       "37     6.240000                   75.18                75.035559\n",
       "38     7.860000                   80.72                81.334905\n",
       "39     5.520000                   71.45                72.235850"
      ]
     },
     "execution_count": 25,
     "metadata": {},
     "output_type": "execute_result"
    }
   ],
   "source": [
    "pd.DataFrame(data = np.c_[X_test, y_test, y_pred], columns = [\"study_hours\", \"student_marks_original\",\"student_marks_predicted\"])"
   ]
  },
  {
   "cell_type": "markdown",
   "metadata": {
    "colab_type": "text",
    "id": "7yBuh2QdlcYD"
   },
   "source": [
    "## Fine-tune your model"
   ]
  },
  {
   "cell_type": "code",
   "execution_count": 27,
   "metadata": {},
   "outputs": [],
   "source": [
    "from sklearn.metrics import mean_squared_error, r2_score"
   ]
  },
  {
   "cell_type": "code",
   "execution_count": 28,
   "metadata": {},
   "outputs": [
    {
     "data": {
      "text/plain": [
       "0.6794776628178256"
      ]
     },
     "execution_count": 28,
     "metadata": {},
     "output_type": "execute_result"
    }
   ],
   "source": [
    "mean_squared_error(y_test,y_pred)"
   ]
  },
  {
   "cell_type": "code",
   "execution_count": 29,
   "metadata": {},
   "outputs": [
    {
     "data": {
      "text/plain": [
       "0.9694794592054993"
      ]
     },
     "execution_count": 29,
     "metadata": {},
     "output_type": "execute_result"
    }
   ],
   "source": [
    "r2_score(y_test,y_pred)"
   ]
  },
  {
   "cell_type": "code",
   "execution_count": 26,
   "metadata": {
    "colab": {
     "base_uri": "https://localhost:8080/",
     "height": 35
    },
    "colab_type": "code",
    "executionInfo": {
     "elapsed": 4098,
     "status": "ok",
     "timestamp": 1591639760576,
     "user": {
      "displayName": "Indian AI Production",
      "photoUrl": "https://lh3.googleusercontent.com/a-/AOh14Gj3ZvzF_5wYrhSUbb_fejZZI0SOJB4k_MnwL_ZT=s64",
      "userId": "18422374217311601843"
     },
     "user_tz": -330
    },
    "id": "GTMEk4FFkzio",
    "outputId": "7982480c-61f3-470e-a666-f345bb5b5392"
   },
   "outputs": [
    {
     "data": {
      "text/plain": [
       "0.9694794592054993"
      ]
     },
     "execution_count": 26,
     "metadata": {},
     "output_type": "execute_result"
    }
   ],
   "source": [
    "lr.score(X_test,y_test)"
   ]
  },
  {
   "cell_type": "code",
   "execution_count": 30,
   "metadata": {
    "colab": {
     "base_uri": "https://localhost:8080/",
     "height": 283
    },
    "colab_type": "code",
    "executionInfo": {
     "elapsed": 4064,
     "status": "ok",
     "timestamp": 1591639760577,
     "user": {
      "displayName": "Indian AI Production",
      "photoUrl": "https://lh3.googleusercontent.com/a-/AOh14Gj3ZvzF_5wYrhSUbb_fejZZI0SOJB4k_MnwL_ZT=s64",
      "userId": "18422374217311601843"
     },
     "user_tz": -330
    },
    "id": "Ifif1n_ilret",
    "outputId": "ff966073-0b25-457c-e6ac-315031f2cf45"
   },
   "outputs": [
    {
     "data": {
      "text/plain": [
       "<matplotlib.collections.PathCollection at 0x2b45ffe4e30>"
      ]
     },
     "execution_count": 30,
     "metadata": {},
     "output_type": "execute_result"
    },
    {
     "data": {
      "image/png": "[encoded data removed]",
      "text/plain": [
       "<Figure size 640x480 with 1 Axes>"
      ]
     },
     "metadata": {},
     "output_type": "display_data"
    }
   ],
   "source": [
    "plt.scatter(X_train,y_train)  "
   ]
  },
  {
   "cell_type": "code",
   "execution_count": 31,
   "metadata": {},
   "outputs": [
    {
     "data": {
      "text/plain": [
       "array([82.19037222, 76.27987468, 81.68486914, 74.8022503 , 77.52418995,\n",
       "       79.85728109, 75.57994734, 74.25786237, 73.63570473, 84.56234821,\n",
       "       81.14048121, 71.06930448, 81.72375399, 83.47357234, 72.66358342,\n",
       "       82.89029956, 84.25126939, 70.5638014 , 84.4845785 , 80.9071721 ,\n",
       "       80.12947505, 84.21238454, 71.06930448, 84.91231188, 80.40166902,\n",
       "       78.72962037, 79.1962386 , 82.50145104, 70.5638014 , 73.79124414,\n",
       "       76.27987468, 77.32976569, 83.04583897, 80.67386298, 70.25272259,\n",
       "       84.21238454, 77.01868687, 82.38479648, 75.50217764, 77.97505483,\n",
       "       84.44569365, 82.22925707, 70.64157111, 71.69146212, 84.64011791,\n",
       "       80.59609328, 76.70760806, 84.56234821, 85.3011604 , 82.15148737,\n",
       "       81.06271151, 71.73034697, 71.96365608, 81.41267518, 70.95264993,\n",
       "       72.81912283, 85.72889377, 77.97505483, 84.64011791, 70.75822566,\n",
       "       75.46329278, 84.95119673, 71.65257727, 71.76923182, 85.26227555,\n",
       "       80.12947505, 84.64011791, 75.89102616, 85.3011604 , 70.4860317 ,\n",
       "       80.05170535, 81.68486914, 76.12433527, 71.73034697, 72.31361975,\n",
       "       82.07371766, 76.94091717, 75.38552308, 79.62397197, 85.45669981,\n",
       "       76.6687232 , 71.53592271, 81.8015237 , 83.24026323, 82.30702678,\n",
       "       81.84040855, 76.08545042, 75.46329278, 79.15735375, 71.73034697,\n",
       "       83.24026323, 77.01868687, 77.32976569, 74.45228663, 75.46329278,\n",
       "       77.67972936, 82.61810559, 70.99153478, 72.74135313, 70.29160744,\n",
       "       72.11919549, 79.66285683, 70.40826199, 71.76923182, 79.00181434,\n",
       "       72.00254094, 73.01354709, 83.16249353, 79.00181434, 74.8022503 ,\n",
       "       76.08545042, 79.35177801, 78.3796567 , 71.92477123, 84.83454217,\n",
       "       81.33490547, 80.05170535, 85.49558466, 72.31361975, 78.88515978,\n",
       "       71.22484389, 81.64598429, 78.72962037, 70.95264993, 81.37379032,\n",
       "       71.49703786, 81.68486914, 85.65112407, 84.05684513, 78.02969303,\n",
       "       76.43541409, 71.96365608, 72.89689254, 81.49044488, 73.51905017,\n",
       "       77.97505483, 82.85141471, 80.0128205 , 85.10673614, 85.57335436,\n",
       "       82.07371766, 83.5902269 , 79.58508712, 72.35250461, 85.53446951,\n",
       "       80.79051754, 73.1690865 , 76.08545042, 74.14120781, 79.1962386 ,\n",
       "       83.39580264, 72.62469857, 78.53519611, 73.13020165, 77.71861421,\n",
       "       78.45742641, 70.75822566, 70.64157111, 73.28574106, 71.14707419])"
      ]
     },
     "execution_count": 31,
     "metadata": {},
     "output_type": "execute_result"
    }
   ],
   "source": [
    "lr.predict(X_train)"
   ]
  },
  {
   "cell_type": "code",
   "execution_count": 32,
   "metadata": {},
   "outputs": [
    {
     "data": {
      "text/plain": [
       "<matplotlib.collections.PathCollection at 0x2b4600442f0>"
      ]
     },
     "execution_count": 32,
     "metadata": {},
     "output_type": "execute_result"
    },
    {
     "data": {
      "image/png": "[encoded data removed]",
      "text/plain": [
       "<Figure size 640x480 with 1 Axes>"
      ]
     },
     "metadata": {},
     "output_type": "display_data"
    }
   ],
   "source": [
    "plt.scatter(X_train, lr.predict(X_train))"
   ]
  },
  {
   "cell_type": "code",
   "execution_count": 33,
   "metadata": {},
   "outputs": [
    {
     "data": {
      "text/plain": [
       "[<matplotlib.lines.Line2D at 0x2b4600e0a70>]"
      ]
     },
     "execution_count": 33,
     "metadata": {},
     "output_type": "execute_result"
    },
    {
     "data": {
      "image/png": "[encoded data removed]",
      "text/plain": [
       "<Figure size 640x480 with 1 Axes>"
      ]
     },
     "metadata": {},
     "output_type": "display_data"
    }
   ],
   "source": [
    "plt.plot(X_train, lr.predict(X_train), 'r-')"
   ]
  },
  {
   "cell_type": "code",
   "execution_count": 34,
   "metadata": {
    "colab": {
     "base_uri": "https://localhost:8080/",
     "height": 283
    },
    "colab_type": "code",
    "executionInfo": {
     "elapsed": 4018,
     "status": "ok",
     "timestamp": 1591639760578,
     "user": {
      "displayName": "Indian AI Production",
      "photoUrl": "https://lh3.googleusercontent.com/a-/AOh14Gj3ZvzF_5wYrhSUbb_fejZZI0SOJB4k_MnwL_ZT=s64",
      "userId": "18422374217311601843"
     },
     "user_tz": -330
    },
    "id": "QN9K4kgemIDu",
    "outputId": "6b316655-9455-472e-a07a-be773f126a3b"
   },
   "outputs": [
    {
     "data": {
      "text/plain": [
       "[<matplotlib.lines.Line2D at 0x2b46011e3f0>]"
      ]
     },
     "execution_count": 34,
     "metadata": {},
     "output_type": "execute_result"
    },
    {
     "data": {
      "image/png": "[encoded data removed]",
      "text/plain": [
       "<Figure size 640x480 with 1 Axes>"
      ]
     },
     "metadata": {},
     "output_type": "display_data"
    }
   ],
   "source": [
    "plt.scatter(X_train, y_train)\n",
    "plt.plot(X_train, lr.predict(X_train), color = \"r\")"
   ]
  },
  {
   "cell_type": "code",
   "execution_count": 35,
   "metadata": {},
   "outputs": [
    {
     "data": {
      "text/plain": [
       "[<matplotlib.lines.Line2D at 0x2b4601e7140>]"
      ]
     },
     "execution_count": 35,
     "metadata": {},
     "output_type": "execute_result"
    },
    {
     "data": {
      "image/png": "[encoded data removed]",
      "text/plain": [
       "<Figure size 640x480 with 1 Axes>"
      ]
     },
     "metadata": {},
     "output_type": "display_data"
    }
   ],
   "source": [
    "plt.scatter(X_test, y_test)\n",
    "plt.plot(X_test, lr.predict(X_test), color = \"r\")"
   ]
  },
  {
   "cell_type": "code",
   "execution_count": 36,
   "metadata": {},
   "outputs": [
    {
     "data": {
      "text/plain": [
       "[<matplotlib.lines.Line2D at 0x2b460259d90>]"
      ]
     },
     "execution_count": 36,
     "metadata": {},
     "output_type": "execute_result"
    },
    {
     "data": {
      "image/png": "[encoded data removed]",
      "text/plain": [
       "<Figure size 640x480 with 1 Axes>"
      ]
     },
     "metadata": {},
     "output_type": "display_data"
    }
   ],
   "source": [
    "plt.scatter(X, y)\n",
    "plt.plot(X, lr.predict(X), color = \"r\")"
   ]
  },
  {
   "cell_type": "code",
   "execution_count": null,
   "metadata": {},
   "outputs": [],
   "source": []
  }
 ],
 "metadata": {
  "colab": {
   "authorship_tag": "ABX9TyN3uqBtvO6WMBAk26OFqjBU",
   "collapsed_sections": [],
   "name": "students_mark_predictor.ipynb",
   "provenance": []
  },
  "kernelspec": {
   "display_name": "Python 3 (ipykernel)",
   "language": "python",
   "name": "python3"
  },
  "language_info": {
   "codemirror_mode": {
    "name": "ipython",
    "version": 3
   },
   "file_extension": ".py",
   "mimetype": "text/x-python",
   "name": "python",
   "nbconvert_exporter": "python",
   "pygments_lexer": "ipython3",
   "version": "3.12.7"
  }
 },
 "nbformat": 4,
 "nbformat_minor": 4
}
